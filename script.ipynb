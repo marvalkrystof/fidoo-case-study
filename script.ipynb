{
 "cells": [
  {
   "cell_type": "code",
   "execution_count": 17,
   "metadata": {},
   "outputs": [],
   "source": [
    "# Imports\n",
    "from requests import get\n",
    "import pandas as pd\n",
    "from json import load\n"
   ]
  },
  {
   "cell_type": "code",
   "execution_count": 18,
   "metadata": {},
   "outputs": [],
   "source": [
    "def get_api_data_and_save_to_file(api_endpoint : str, save_file_path : str, chunk_read : bool = False, chunk_size : int = 1024, append : bool = False) -> None:\n",
    "    \"\"\"Function makes an get request towarsd API endpoint. The response data is then saved into a file.\n",
    "    \n",
    "        :param str api_endpoint: API endpoint URL\n",
    "        :param str save_file_path: File path of the file, where the data will be saved.\n",
    "        :param bool chunk_read: If True, the data will be read and written by chunks of size determined by the chunk_size parameter. Especially useful when the data in the request is of a large size.\n",
    "        :param int chunk_size: Sets the chunk size of data to be read when chunk_read is True.\n",
    "        :param append: If True, the data is appended to a file instead of overwriting the data.\n",
    "    \n",
    "    \"\"\"\n",
    "    write_mode = \"ab\" if append == True else \"wb\"\n",
    "\n",
    "    if chunk_read == True:\n",
    "        with get(api_endpoint, stream = True) as response:\n",
    "            with open(save_file_path, write_mode) as file:\n",
    "                for chunk in response.iter_content(chunk_size):\n",
    "                    file.write(chunk)\n",
    "    else:\n",
    "         with get(api_endpoint) as response:\n",
    "            with open(save_file_path, write_mode) as file:\n",
    "                    file.write(response.content)"
   ]
  },
  {
   "cell_type": "code",
   "execution_count": 19,
   "metadata": {},
   "outputs": [],
   "source": [
    "get_api_data_and_save_to_file(\"https://662bd076de35f91de1598f6f.mockapi.io/testfidoo/companies\", \"og_data.json\")"
   ]
  },
  {
   "cell_type": "code",
   "execution_count": 20,
   "metadata": {},
   "outputs": [],
   "source": [
    "# Again, in case it\"s needed we can read the json by chunks\n",
    "\n",
    "with open(\"og_data.json\") as f:\n",
    "    data = load(f)\n",
    "\n",
    "\n",
    "# flattens the address column into multiple column as it is a json sub-structure\n",
    "company_df = pd.json_normalize(data)\n",
    "company_df = company_df.rename(columns={\"companyId\":\"company_id\",\"companyName\":\"company_name\", \"address.street\" : \"street\", \"address.city\" : \"city\", \"address.zipCode\" : \"zip_code\", \"address.country\" : \"country\"})\n"
   ]
  },
  {
   "cell_type": "code",
   "execution_count": 21,
   "metadata": {},
   "outputs": [],
   "source": [
    "address_df = company_df[[\"company_id\",\"street\", \"city\", \"zip_code\", \"country\"]]"
   ]
  },
  {
   "cell_type": "code",
   "execution_count": 22,
   "metadata": {},
   "outputs": [],
   "source": [
    "# Drop the unused columns\n",
    "company_df.drop(columns=[\"street\", \"city\", \"zip_code\", \"country\"], inplace=True)"
   ]
  },
  {
   "cell_type": "code",
   "execution_count": 23,
   "metadata": {},
   "outputs": [],
   "source": [
    "def create_new_df_from_json_list_column(df : pd.DataFrame, columns_to_keep : list, column_to_explode : str, drop : bool = False) -> pd.DataFrame:\n",
    "    \"\"\"\n",
    "    The entities in this JSON dataset contain lists of JSON structures, which need to be extracted into a new dataframe, this function does it. \n",
    "\n",
    "            :param df pd.DataFrame: Dataframe which contains the nested structure, that needs to be made into a new df.\n",
    "            :param list columns_to_keep: This list contains names of columns to be transferred from the original df into the new df.\n",
    "            :param str column_to_explode: Column containing the nested structure. \n",
    "            :param bool drop: If set to True, the nested column is dropped from the original dataset.\n",
    "            \n",
    "            :return pd.DataFrame new_df: Newly created dataframe\n",
    "    \"\"\"\n",
    "    \n",
    "    columns_to_keep.append(column_to_explode)\n",
    "    new_df = df[columns_to_keep]\n",
    "    \n",
    "    if drop:\n",
    "        df.drop(column_to_explode, inplace=True, axis=1)\n",
    "\n",
    "    new_df = new_df.explode(column_to_explode)\n",
    "\n",
    "    # we have to do this to not lose columns_to_keep when calling json_normalize    \n",
    "    normalized_data = pd.json_normalize(new_df[column_to_explode])\n",
    "    new_df.reset_index(drop=True,inplace=True)\n",
    "    new_df = pd.concat([new_df.drop(columns=[column_to_explode]), normalized_data], axis=1)\n",
    "    \n",
    "    return new_df"
   ]
  },
  {
   "cell_type": "code",
   "execution_count": 24,
   "metadata": {},
   "outputs": [],
   "source": [
    "employee_df = create_new_df_from_json_list_column(company_df, [\"company_id\"], \"employees\", drop= True)\n",
    "employee_df = employee_df.rename(columns={\"employeeId\" : \"employee_id\"})"
   ]
  },
  {
   "cell_type": "code",
   "execution_count": 25,
   "metadata": {},
   "outputs": [],
   "source": [
    "contacts_df = create_new_df_from_json_list_column(employee_df, [\"employee_id\"], \"contacts\", drop = True)\n",
    "contacts_df = contacts_df.rename(columns={\"contactType\" : \"contact_type\", \"contactId\" : \"contact_id\", \"contactValue\" : \"contact_value\"})"
   ]
  },
  {
   "cell_type": "code",
   "execution_count": 26,
   "metadata": {},
   "outputs": [],
   "source": [
    "### DROPPING DUPLICATES AND NA VALUES (most of the dataframes don't contain duplicates/NA rows, but to be uniform and as a futureproof for different instances of this dataset i perform these operations)\n",
    "# Drop NA values (if contact value is lost, we don't care about the contact anymore)\n",
    "contacts_df = contacts_df.dropna(subset=[\"contact_value\"])\n",
    "# Drop duplicates\n",
    "contacts_df = contacts_df.drop_duplicates()\n",
    "# Reset index\n",
    "contacts_df = contacts_df.reset_index(drop=True)\n",
    "\n",
    "# Drop columns if both employee_id or name are NA. We don't care about position or department in this case.\n",
    "employee_df = employee_df.dropna(subset=[\"employee_id\", \"name\"], thresh = 1)\n",
    "# Drop duplicates\n",
    "employee_df = employee_df.drop_duplicates()\n",
    "#Reset index \n",
    "employee_df = employee_df.reset_index(drop=True)\n",
    "\n",
    "# Drop addresses where street is NA\n",
    "address_df = address_df.dropna(subset=[\"street\"])\n",
    "# Drop duplicates\n",
    "address_df = address_df.drop_duplicates()\n",
    "# Reset index \n",
    "address_df = address_df.reset_index(drop=True)\n",
    "\n",
    "# Drop only columns that have NA in company_name\n",
    "company_df = company_df.dropna(subset=[\"company_name\"])\n",
    "# Drop duplicates\n",
    "company_df = company_df.drop_duplicates()\n",
    "#Reset index\n",
    "company_df = company_df.reset_index(drop=True)"
   ]
  },
  {
   "cell_type": "code",
   "execution_count": 27,
   "metadata": {},
   "outputs": [],
   "source": [
    "# Save dataframes to CSV'\n",
    "contacts_df.to_csv(\"contacts.csv\", index=False)\n",
    "employee_df.to_csv(\"employee.csv\", index=False)\n",
    "address_df.to_csv(\"address.csv\", index = False)\n",
    "company_df.to_csv(\"company.csv\", index=False)"
   ]
  },
  {
   "cell_type": "code",
   "execution_count": 28,
   "metadata": {},
   "outputs": [
    {
     "data": {
      "text/plain": [
       "43"
      ]
     },
     "execution_count": 28,
     "metadata": {},
     "output_type": "execute_result"
    }
   ],
   "source": [
    "# Statistiky\n",
    "\n",
    "# Zjistěte, kolik uživatelů celkem existuje. - předpokládám, že employee = uživatel\n",
    "len(employee_df)"
   ]
  },
  {
   "cell_type": "code",
   "execution_count": 29,
   "metadata": {},
   "outputs": [
    {
     "data": {
      "text/plain": [
       "8"
      ]
     },
     "execution_count": 29,
     "metadata": {},
     "output_type": "execute_result"
    }
   ],
   "source": [
    "# Zjistěte, kolik společností je v datasetu\n",
    "len(company_df)"
   ]
  },
  {
   "cell_type": "code",
   "execution_count": 30,
   "metadata": {},
   "outputs": [
    {
     "data": {
      "text/plain": [
       "employee_id                           contact_type\n",
       "010b5879-316d-4225-a0d1-ec092c820ba0  email           1\n",
       "16156eb6-6772-41ed-9901-bdb4a3612ead  email           1\n",
       "                                      phone           2\n",
       "18690567-959f-4fbe-87d2-704bf001cdb9  email           1\n",
       "                                      phone           2\n",
       "1c132536-6f18-4beb-b3f4-66d994a253cf  email           2\n",
       "                                      phone           1\n",
       "29a3158a-a864-43e0-91cc-39b805985915  email           1\n",
       "47f6bae2-65c5-4099-a491-f7b33fa76ce9  phone           3\n",
       "48042062-3de3-4768-88c6-32f1a58aea89  phone           1\n",
       "51d85fa8-52db-42cd-9325-71e495a9e85c  email           1\n",
       "                                      phone           1\n",
       "52f25ebd-6dbc-4112-b683-b607ecc1b020  email           2\n",
       "                                      phone           1\n",
       "5f769ef2-e5b5-466a-98b5-af139217a7fc  phone           3\n",
       "6743c693-38b8-486c-aa8b-15457861810b  email           2\n",
       "6d969266-9dfb-4a3d-b7d6-1f67470ded64  email           1\n",
       "711d63e4-a892-4ff7-bfda-68db295d11b1  email           1\n",
       "                                      phone           1\n",
       "7c083682-e644-407d-a6df-3591b20ce160  email           1\n",
       "                                      phone           1\n",
       "7d43caad-9bf9-4376-91ca-cf4b9583f6fd  email           1\n",
       "                                      phone           1\n",
       "8681de79-6826-4c75-a9a2-cb87b3ed1083  email           3\n",
       "891167bf-5a21-40f9-8bdd-fe861d9981d1  email           2\n",
       "                                      phone           1\n",
       "8a320f25-9e37-42cd-812c-3165bed0d774  email           1\n",
       "                                      phone           1\n",
       "8fca1b87-ad14-48d2-afba-7533717c60fd  email           1\n",
       "                                      phone           2\n",
       "90d446a0-7376-4e56-9761-6b33edb88d9d  email           2\n",
       "914bf7c2-326a-4d73-a12e-0320f8a7cb33  phone           2\n",
       "9b8fea9c-3036-4ec3-a0d0-4f6f548ebae6  email           2\n",
       "a23a4c7f-86f7-4ffb-89e3-3f6fab72b26c  phone           1\n",
       "a81f0d34-398b-4505-8b0d-beb87144f985  email           2\n",
       "                                      phone           1\n",
       "b47bac70-9a91-4597-aa2d-0366f0686fe6  email           2\n",
       "                                      phone           1\n",
       "b4e4167f-fac7-47a9-b6ed-a818d70fec3e  email           1\n",
       "c2d0b427-5294-474e-aa4b-fb846352b8b1  email           2\n",
       "                                      phone           1\n",
       "c4dd3db6-1f21-4e84-880f-eba01a9ab770  phone           1\n",
       "c613e3d5-59df-431f-a84c-0b5bac382792  phone           2\n",
       "c6d6042a-8f57-4f09-88a2-e4fce009cffc  email           1\n",
       "                                      phone           2\n",
       "cc4aed05-8baa-4190-87db-bc337e0c94a8  email           1\n",
       "cd6f26af-610d-4f82-b390-4258292e84eb  phone           2\n",
       "ce23a89e-5288-438c-a95e-ce1fd24fe055  email           1\n",
       "d44e98fb-0cb9-4bcc-afc5-ddfd51bc6411  email           2\n",
       "d4611ca6-4d5c-4d48-9e69-0dcb14febf28  phone           1\n",
       "d4785b3b-5d45-41f9-8de1-62e2c87e4aa8  email           1\n",
       "                                      phone           2\n",
       "d6e68de3-1f34-4a07-bf73-bdc0cbfccedf  email           1\n",
       "e9771af2-5ab5-4fd9-ae88-8f277a818c55  email           2\n",
       "                                      phone           1\n",
       "ee27a05c-1b87-4347-8ae3-751b0a13ac00  email           2\n",
       "eeee1b26-a8cf-443f-9f64-db139fdba54e  phone           1\n",
       "f1479e4c-ddd9-4025-b5b3-3a0e9866f323  email           2\n",
       "                                      phone           1\n",
       "fc17f13f-16d9-41ee-a53c-be4d11f24748  email           3\n",
       "Name: contact_id, dtype: int64"
      ]
     },
     "execution_count": 30,
     "metadata": {},
     "output_type": "execute_result"
    }
   ],
   "source": [
    "# Pro každého uživatele zjistěte, kolik kontaktů má a jakého typu jsou tyto kontakty\n",
    "contacts_df.groupby([\"employee_id\", \"contact_type\"])[\"contact_id\"].count()\n"
   ]
  },
  {
   "cell_type": "code",
   "execution_count": 31,
   "metadata": {},
   "outputs": [
    {
     "data": {
      "text/plain": [
       "name                 contact_type\n",
       "Abigail Powers       email           1\n",
       "                     phone           1\n",
       "Aimee Garcia         email           2\n",
       "                     phone           1\n",
       "Andrea Mcbride       email           2\n",
       "                     phone           1\n",
       "Andrew Hicks         email           1\n",
       "                     phone           2\n",
       "Anthony Bullock      phone           1\n",
       "Brian Gardner        email           3\n",
       "Bryan Lindsey        email           1\n",
       "Caroline Newton      phone           3\n",
       "Christopher Rogers   email           2\n",
       "Connie Matthews DVM  email           2\n",
       "Corey Lopez          phone           3\n",
       "Cynthia Ibarra       email           2\n",
       "                     phone           1\n",
       "Derrick Evans        email           2\n",
       "                     phone           1\n",
       "Dr. Marcus Brown     email           2\n",
       "                     phone           1\n",
       "Erin Pearson         email           1\n",
       "Jacob Thornton       email           1\n",
       "                     phone           2\n",
       "Jamie Hill           email           2\n",
       "Jimmy Juarez         email           1\n",
       "Joseph Phillips      phone           1\n",
       "Kenneth Hartman      email           1\n",
       "                     phone           2\n",
       "Kevin Burns          email           1\n",
       "Margaret Caldwell    email           1\n",
       "Mark Garner          email           3\n",
       "Martin Harris        email           2\n",
       "                     phone           1\n",
       "Mary Williams        email           2\n",
       "                     phone           1\n",
       "Matthew Hopkins      email           1\n",
       "                     phone           1\n",
       "Matthew Robinson     email           1\n",
       "                     phone           2\n",
       "Michael Bennett      phone           2\n",
       "Michael White        phone           1\n",
       "Mr. Robert Braun     phone           2\n",
       "Noah Williams MD     phone           1\n",
       "Pamela Foley         email           1\n",
       "                     phone           2\n",
       "Paula Harris         phone           1\n",
       "Robert White         email           1\n",
       "                     phone           1\n",
       "Scott Gomez          email           2\n",
       "Sean Johnson         email           1\n",
       "Sheila Garcia        phone           2\n",
       "Stacey Clark         email           2\n",
       "                     phone           1\n",
       "Tammy Herman         email           1\n",
       "Tara Lopez           email           1\n",
       "                     phone           1\n",
       "Vincent Murphy       email           2\n",
       "Whitney Anthony      email           1\n",
       "                     phone           1\n",
       "Name: contact_type, dtype: int64"
      ]
     },
     "execution_count": 31,
     "metadata": {},
     "output_type": "execute_result"
    }
   ],
   "source": [
    "employee_df.merge(contacts_df, how=\"left\", on=\"employee_id\")[[\"name\", \"contact_type\"]].groupby([\"name\", \"contact_type\"])[\"contact_type\"].count()"
   ]
  }
 ],
 "metadata": {
  "kernelspec": {
   "display_name": "fidoo",
   "language": "python",
   "name": "python3"
  },
  "language_info": {
   "codemirror_mode": {
    "name": "ipython",
    "version": 3
   },
   "file_extension": ".py",
   "mimetype": "text/x-python",
   "name": "python",
   "nbconvert_exporter": "python",
   "pygments_lexer": "ipython3",
   "version": "3.10.6"
  }
 },
 "nbformat": 4,
 "nbformat_minor": 2
}
